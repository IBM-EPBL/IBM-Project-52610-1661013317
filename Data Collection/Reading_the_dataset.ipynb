{
  "cells": [
    {
      "cell_type": "markdown",
      "id": "77391884",
      "metadata": {
        "id": "77391884"
      },
      "source": [
        "# IBM-Project-52610-1661013317\n"
      ]
    },
    {
      "cell_type": "markdown",
      "id": "e207c3e0",
      "metadata": {
        "id": "e207c3e0"
      },
      "source": [
        "## University Admit Eligibility Predictor "
      ]
    },
    {
      "cell_type": "markdown",
      "id": "130a759c",
      "metadata": {
        "id": "130a759c"
      },
      "source": [
        "## Importing The Libraries"
      ]
    },
    {
      "cell_type": "code",
      "execution_count": null,
      "id": "0def4823",
      "metadata": {
        "id": "0def4823"
      },
      "outputs": [],
      "source": [
        "import numpy as np\n",
        "import pandas as pd\n",
        "import seaborn as sns\n",
        "import matplotlib.pyplot as plt\n",
        "%matplotlib inline"
      ]
    },
    {
      "cell_type": "markdown",
      "id": "ab3577ec",
      "metadata": {
        "id": "ab3577ec"
      },
      "source": [
        "## Reading the dataset"
      ]
    },
    {
      "cell_type": "code",
      "execution_count": null,
      "id": "1a7041ee",
      "metadata": {
        "id": "1a7041ee"
      },
      "outputs": [],
      "source": [
        "df=pd.read_csv(\"data.csv\")"
      ]
    }
  ],
  "metadata": {
    "kernelspec": {
      "display_name": "Python 3 (ipykernel)",
      "language": "python",
      "name": "python3"
    },
    "language_info": {
      "codemirror_mode": {
        "name": "ipython",
        "version": 3
      },
      "file_extension": ".py",
      "mimetype": "text/x-python",
      "name": "python",
      "nbconvert_exporter": "python",
      "pygments_lexer": "ipython3",
      "version": "3.9.7"
    },
    "colab": {
      "provenance": []
    }
  },
  "nbformat": 4,
  "nbformat_minor": 5
}