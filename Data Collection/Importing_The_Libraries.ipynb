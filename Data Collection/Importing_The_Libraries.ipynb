{
  "cells": [
    {
      "cell_type": "markdown",
      "id": "f986b275",
      "metadata": {
        "id": "f986b275"
      },
      "source": [
        "# IBM-Project-52610-1661013317\n"
      ]
    },
    {
      "cell_type": "markdown",
      "id": "9ecd3418",
      "metadata": {
        "id": "9ecd3418"
      },
      "source": [
        "## University Admit Eligibility Predictor "
      ]
    },
    {
      "cell_type": "markdown",
      "id": "8ffe361b",
      "metadata": {
        "id": "8ffe361b"
      },
      "source": [
        "## Importing The Libraries"
      ]
    },
    {
      "cell_type": "code",
      "execution_count": null,
      "id": "a25017aa",
      "metadata": {
        "id": "a25017aa"
      },
      "outputs": [],
      "source": [
        "import numpy as np\n",
        "import pandas as pd\n",
        "import seaborn as sns\n",
        "import matplotlib.pyplot as plt\n",
        "%matplotlib inline"
      ]
    }
  ],
  "metadata": {
    "kernelspec": {
      "display_name": "Python 3 (ipykernel)",
      "language": "python",
      "name": "python3"
    },
    "language_info": {
      "codemirror_mode": {
        "name": "ipython",
        "version": 3
      },
      "file_extension": ".py",
      "mimetype": "text/x-python",
      "name": "python",
      "nbconvert_exporter": "python",
      "pygments_lexer": "ipython3",
      "version": "3.9.7"
    },
    "colab": {
      "provenance": []
    }
  },
  "nbformat": 4,
  "nbformat_minor": 5
}